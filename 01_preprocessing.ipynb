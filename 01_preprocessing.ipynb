{
 "cells": [
  {
   "cell_type": "code",
   "execution_count": null,
   "metadata": {},
   "outputs": [],
   "source": [
    "import spacy"
   ]
  },
  {
   "cell_type": "code",
   "execution_count": null,
   "metadata": {},
   "outputs": [],
   "source": [
    "nlp_en = spacy.load(\"en_core_web_sm\")\n",
    "nlp_pt = spacy.load(\"pt_core_news_lg\")"
   ]
  },
  {
   "cell_type": "code",
   "execution_count": null,
   "metadata": {},
   "outputs": [],
   "source": [
    "s_en = \"He didn't want to pay $20 for this book.\"\n",
    "doc_en = nlp_en(s_en)"
   ]
  },
  {
   "cell_type": "code",
   "execution_count": null,
   "metadata": {},
   "outputs": [],
   "source": [
    "s_pt = \"\"\"\n",
    "EXCELENTÍSSIMO SR DR JUIZ DE DIREITO DA 6ª VARA DA FAZENDA PÚBLICA DA COMARCA DA CAPITAL – SÃO PAULO\n",
    "\n",
    "MANDADO DE SEGURANÇA\n",
    "PROCESSO Nº 1007898-19.2022.8.26.0053\n",
    "\n",
    "\n",
    "JOSÉ JOAQUIM DA SILVA XAVIER, dentista, portador do RG nº 12.345.678-9, inscrito no CPF/MF sob nº 123.456.789-10, residente e domiciliado na Rua dos Enforcados, nº 21, CEP 02104-010, por seu procurador, vem propor a presente\n",
    "AÇÃO DE COBRANÇA,\n",
    "Em face do Município de São Paulo, pessoa jurídica de direito público, CNPJ nº 12.345.678/0001-01, com sede no Viaduto do Chá, s/ n.\n",
    "SEI 6029.2024/0016634-1\n",
    "Autos 2276828-82.2024.8.26.0000 (1)\n",
    "\n",
    "CRM 60159 \n",
    "\n",
    "São Paulo, 30 de nov. de 24\n",
    "Rui Barbosa\n",
    "\n",
    "OAB/SP 12.345\n",
    "\"\"\"\n",
    "doc_pt = nlp_pt(s_pt)"
   ]
  },
  {
   "cell_type": "code",
   "execution_count": null,
   "metadata": {},
   "outputs": [],
   "source": [
    "print([sent for sent in doc_pt.sents])"
   ]
  },
  {
   "cell_type": "code",
   "execution_count": null,
   "metadata": {},
   "outputs": [],
   "source": [
    "print(nlp_pt.Defaults.stop_words)"
   ]
  },
  {
   "cell_type": "code",
   "execution_count": null,
   "metadata": {},
   "outputs": [],
   "source": [
    "[(t.text, t.lemma_) for t in doc_en]"
   ]
  },
  {
   "cell_type": "code",
   "execution_count": null,
   "metadata": {},
   "outputs": [],
   "source": [
    "[(t.text, t.pos_) for t in doc_pt]"
   ]
  },
  {
   "cell_type": "code",
   "execution_count": null,
   "metadata": {},
   "outputs": [],
   "source": [
    "[(t.text, t.tag_) for t in doc_pt]"
   ]
  },
  {
   "cell_type": "code",
   "execution_count": null,
   "metadata": {},
   "outputs": [],
   "source": [
    "s = \"Volkswagen is developing an electric sedan which could potentially come to America next fall.\"\n",
    "doc = nlp_en(s)\n",
    "\n",
    "[(t.text, t.ent_type_) for t in doc]"
   ]
  },
  {
   "cell_type": "code",
   "execution_count": null,
   "metadata": {},
   "outputs": [],
   "source": [
    "[(t.text, t.ent_type_) for t in doc_pt]"
   ]
  },
  {
   "cell_type": "code",
   "execution_count": null,
   "metadata": {},
   "outputs": [],
   "source": [
    "print([(ent.text, ent.label_) for ent in doc_pt.ents])"
   ]
  },
  {
   "cell_type": "code",
   "execution_count": null,
   "metadata": {},
   "outputs": [],
   "source": [
    "s_pt = \"\"\"\n",
    "EXCELENTÍSSIMO SR DR JUIZ DE DIREITO DA 6ª VARA DA FAZENDA PÚBLICA DA COMARCA DA CAPITAL – SÃO PAULO\n",
    "\n",
    "MANDADO DE SEGURANÇA\n",
    "PROCESSO Nº 1007898-19.2022.8.26.0053\n",
    "\n",
    "\n",
    "Huno Molina Rodrigues dos Santos, dentista, portador do RG nº 12.345.678-9, inscrito no CPF/MF sob nº 123.456.789-10, residente e domiciliado na Rua dos Enforcados, nº 21, CEP 02104-010, por seu procurador, vem propor a presente\n",
    "AÇÃO DE COBRANÇA,\n",
    "Em face do Município de São Paulo, pessoa jurídica de direito público, CNPJ nº 12.345.678/0001-01, com sede no Viaduto do Chá, s/ n.\n",
    "SEI 6029.2024/0016634-1\n",
    "Autos 2276828-82.2024.8.26.0000 (1)\n",
    "\n",
    "CRM 60159 \n",
    "\n",
    "São Paulo, 30 de nov. de 24\n",
    "Rui Barbosa\n",
    "\n",
    "OAB/SP 12.345\n",
    "\"\"\"\n",
    "doc_pt = nlp_pt(s_pt)\n",
    "#print([sent for sent in doc_pt.sents])\n",
    "import re \n",
    "ner = [(ent.text, ent.label_) for ent in doc_pt.ents]\n",
    "lista_excep = [\"SP\",\"SÃO PAULO\", \"RG\" , \"MUNICÍPIO DE SÃO PAULO\"]\n",
    "\n",
    "for i in ner: \n",
    "     if i[1] == \"PER\" and i[0].upper() not in lista_excep:\n",
    "        s_pt = re.sub(i[0], \"<< nome >>\", s_pt, flags=re.IGNORECASE)\n",
    "        \n",
    "for i in ner:\n",
    "    if i[1] == \"LOC\" and i[0].upper() not in lista_excep:\n",
    "        s_pt = re.sub(i[0], \"<< local >>\", s_pt, flags=re.IGNORECASE)\n",
    "print(s_pt)"
   ]
  }
 ],
 "metadata": {
  "kernelspec": {
   "display_name": ".venv",
   "language": "python",
   "name": "python3"
  },
  "language_info": {
   "codemirror_mode": {
    "name": "ipython",
    "version": 3
   },
   "file_extension": ".py",
   "mimetype": "text/x-python",
   "name": "python",
   "nbconvert_exporter": "python",
   "pygments_lexer": "ipython3",
   "version": "3.12.4"
  }
 },
 "nbformat": 4,
 "nbformat_minor": 2
}
